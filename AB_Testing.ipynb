{
 "cells": [
  {
   "cell_type": "markdown",
   "id": "ca798ec9-af95-430f-afdb-70cba6a20dbe",
   "metadata": {},
   "source": [
    "> **Copyright © 2024 Sweety Seelam**\n",
    ">  \n",
    "> This notebook is part of a protected project under the Creative Commons BY-NC 4.0 license.\n",
    ">  \n",
    "> You may use and adapt for non-commercial educational or professional learning purposes **with attribution**.  \n",
    ">  \n",
    "> 🚫 Reposting, resale, or commercial usage is not permitted without written permission.\n",
    "-------------------------------------------------------------------------------------------------------------------------------------------------------"
   ]
  },
  {
   "cell_type": "markdown",
   "id": "dc3fa1a8",
   "metadata": {},
   "source": [
    "#                                          Marketing A/B Testing"
   ]
  },
  {
   "cell_type": "markdown",
   "id": "1c076002",
   "metadata": {},
   "source": [
    "## Business Objective\n",
    "Amazon wanted to validate whether a newly launched paid ad strategy improves user conversion compared to PSA (public service announcements). The analysis includes:\n",
    "- A/B testing between `ad` and `psa` groups\n",
    "- Identifying peak conversion hours and days\n"
   ]
  },
  {
   "cell_type": "code",
   "execution_count": 1,
   "id": "3836f943-209c-4a56-995e-3d5343be5661",
   "metadata": {},
   "outputs": [],
   "source": [
    "# Import required libraries\n",
    "import pandas as pd\n",
    "from scipy import stats"
   ]
  },
  {
   "cell_type": "code",
   "execution_count": 2,
   "id": "94c7c0a5-ba5e-4916-8aff-e4b133548e01",
   "metadata": {},
   "outputs": [],
   "source": [
    "# Load the dataset\n",
    "df = pd.read_csv(r'C:\\Users\\sweet\\Desktop\\DataScience\\Github projects\\Deployment files\\Marketing-AB-Testing-streamlit\\data\\Marketing_AB_Testing.csv')"
   ]
  },
  {
   "cell_type": "code",
   "execution_count": 3,
   "id": "3a8219fd-9a35-40a2-ba1d-c19084b0b3d8",
   "metadata": {},
   "outputs": [
    {
     "name": "stdout",
     "output_type": "stream",
     "text": [
      "[False  True]\n",
      "converted\n",
      "False    573258\n",
      "True      14843\n",
      "Name: count, dtype: int64\n",
      "bool\n"
     ]
    }
   ],
   "source": [
    "# BEFORE conversion (if you haven't already converted)\n",
    "print(df['converted'].unique())\n",
    "print(df['converted'].value_counts())\n",
    "print(df['converted'].dtype)"
   ]
  },
  {
   "cell_type": "code",
   "execution_count": 4,
   "id": "bfe54ccf-264d-4ffd-82a0-09af7eeaec69",
   "metadata": {},
   "outputs": [],
   "source": [
    "# Mapping the Test Group column values\n",
    "df['test group'] = df['test group'].map({'psa': 0, 'ad': 1})\n",
    "df['converted'] = df['converted'].astype(int)"
   ]
  },
  {
   "cell_type": "code",
   "execution_count": 5,
   "id": "4c29412d-f72a-4730-b84b-e9a5a2dcbf31",
   "metadata": {},
   "outputs": [],
   "source": [
    "# Naming two distinct Test groups after Mapping\n",
    "ad = df[df[\"test group\"] == 1][\"converted\"]\n",
    "psa = df[df[\"test group\"] == 0][\"converted\"]"
   ]
  },
  {
   "cell_type": "code",
   "execution_count": 6,
   "id": "4dac1d66-6797-4122-99ba-909ae5ac1c6f",
   "metadata": {},
   "outputs": [
    {
     "data": {
      "text/html": [
       "<div>\n",
       "<style scoped>\n",
       "    .dataframe tbody tr th:only-of-type {\n",
       "        vertical-align: middle;\n",
       "    }\n",
       "\n",
       "    .dataframe tbody tr th {\n",
       "        vertical-align: top;\n",
       "    }\n",
       "\n",
       "    .dataframe thead th {\n",
       "        text-align: right;\n",
       "    }\n",
       "</style>\n",
       "<table border=\"1\" class=\"dataframe\">\n",
       "  <thead>\n",
       "    <tr style=\"text-align: right;\">\n",
       "      <th></th>\n",
       "      <th>Unnamed: 0</th>\n",
       "      <th>user id</th>\n",
       "      <th>test group</th>\n",
       "      <th>converted</th>\n",
       "      <th>total ads</th>\n",
       "      <th>most ads day</th>\n",
       "      <th>most ads hour</th>\n",
       "    </tr>\n",
       "  </thead>\n",
       "  <tbody>\n",
       "    <tr>\n",
       "      <th>0</th>\n",
       "      <td>0</td>\n",
       "      <td>1069124</td>\n",
       "      <td>1</td>\n",
       "      <td>0</td>\n",
       "      <td>130</td>\n",
       "      <td>Monday</td>\n",
       "      <td>20</td>\n",
       "    </tr>\n",
       "    <tr>\n",
       "      <th>1</th>\n",
       "      <td>1</td>\n",
       "      <td>1119715</td>\n",
       "      <td>1</td>\n",
       "      <td>0</td>\n",
       "      <td>93</td>\n",
       "      <td>Tuesday</td>\n",
       "      <td>22</td>\n",
       "    </tr>\n",
       "    <tr>\n",
       "      <th>2</th>\n",
       "      <td>2</td>\n",
       "      <td>1144181</td>\n",
       "      <td>1</td>\n",
       "      <td>0</td>\n",
       "      <td>21</td>\n",
       "      <td>Tuesday</td>\n",
       "      <td>18</td>\n",
       "    </tr>\n",
       "    <tr>\n",
       "      <th>3</th>\n",
       "      <td>3</td>\n",
       "      <td>1435133</td>\n",
       "      <td>1</td>\n",
       "      <td>0</td>\n",
       "      <td>355</td>\n",
       "      <td>Tuesday</td>\n",
       "      <td>10</td>\n",
       "    </tr>\n",
       "    <tr>\n",
       "      <th>4</th>\n",
       "      <td>4</td>\n",
       "      <td>1015700</td>\n",
       "      <td>1</td>\n",
       "      <td>0</td>\n",
       "      <td>276</td>\n",
       "      <td>Friday</td>\n",
       "      <td>14</td>\n",
       "    </tr>\n",
       "    <tr>\n",
       "      <th>5</th>\n",
       "      <td>5</td>\n",
       "      <td>1137664</td>\n",
       "      <td>1</td>\n",
       "      <td>0</td>\n",
       "      <td>734</td>\n",
       "      <td>Saturday</td>\n",
       "      <td>10</td>\n",
       "    </tr>\n",
       "    <tr>\n",
       "      <th>6</th>\n",
       "      <td>6</td>\n",
       "      <td>1116205</td>\n",
       "      <td>1</td>\n",
       "      <td>0</td>\n",
       "      <td>264</td>\n",
       "      <td>Wednesday</td>\n",
       "      <td>13</td>\n",
       "    </tr>\n",
       "    <tr>\n",
       "      <th>7</th>\n",
       "      <td>7</td>\n",
       "      <td>1496843</td>\n",
       "      <td>1</td>\n",
       "      <td>0</td>\n",
       "      <td>17</td>\n",
       "      <td>Sunday</td>\n",
       "      <td>18</td>\n",
       "    </tr>\n",
       "    <tr>\n",
       "      <th>8</th>\n",
       "      <td>8</td>\n",
       "      <td>1448851</td>\n",
       "      <td>1</td>\n",
       "      <td>0</td>\n",
       "      <td>21</td>\n",
       "      <td>Tuesday</td>\n",
       "      <td>19</td>\n",
       "    </tr>\n",
       "    <tr>\n",
       "      <th>9</th>\n",
       "      <td>9</td>\n",
       "      <td>1446284</td>\n",
       "      <td>1</td>\n",
       "      <td>0</td>\n",
       "      <td>142</td>\n",
       "      <td>Monday</td>\n",
       "      <td>14</td>\n",
       "    </tr>\n",
       "  </tbody>\n",
       "</table>\n",
       "</div>"
      ],
      "text/plain": [
       "   Unnamed: 0  user id  test group  converted  total ads most ads day  \\\n",
       "0           0  1069124           1          0        130       Monday   \n",
       "1           1  1119715           1          0         93      Tuesday   \n",
       "2           2  1144181           1          0         21      Tuesday   \n",
       "3           3  1435133           1          0        355      Tuesday   \n",
       "4           4  1015700           1          0        276       Friday   \n",
       "5           5  1137664           1          0        734     Saturday   \n",
       "6           6  1116205           1          0        264    Wednesday   \n",
       "7           7  1496843           1          0         17       Sunday   \n",
       "8           8  1448851           1          0         21      Tuesday   \n",
       "9           9  1446284           1          0        142       Monday   \n",
       "\n",
       "   most ads hour  \n",
       "0             20  \n",
       "1             22  \n",
       "2             18  \n",
       "3             10  \n",
       "4             14  \n",
       "5             10  \n",
       "6             13  \n",
       "7             18  \n",
       "8             19  \n",
       "9             14  "
      ]
     },
     "execution_count": 6,
     "metadata": {},
     "output_type": "execute_result"
    }
   ],
   "source": [
    "df.head(10)"
   ]
  },
  {
   "cell_type": "code",
   "execution_count": 7,
   "id": "3e6a2631-a6d3-4e63-b8b3-9785686265b5",
   "metadata": {},
   "outputs": [],
   "source": [
    "# Calculate conversion rates for both groups\n",
    "conversion_rates = df.groupby(\"test group\")[\"converted\"].mean().reset_index()\n",
    "conversion_rates.columns = [\"test group\", \"conversion_rate\"]"
   ]
  },
  {
   "cell_type": "code",
   "execution_count": 8,
   "id": "1e52516a-3b8e-4d75-b015-02d260cc0d0c",
   "metadata": {},
   "outputs": [
    {
     "name": "stdout",
     "output_type": "stream",
     "text": [
      "   test group  conversion_rate\n",
      "0           0         0.017854\n",
      "1           1         0.025547\n",
      "[0 1]\n"
     ]
    }
   ],
   "source": [
    "print(conversion_rates)\n",
    "print(conversion_rates[\"test group\"].unique())"
   ]
  },
  {
   "cell_type": "code",
   "execution_count": 9,
   "id": "b19176c9-a2bb-4126-aa37-f2b533143ac6",
   "metadata": {},
   "outputs": [],
   "source": [
    "# Extract specific rates\n",
    "psa_rate = conversion_rates[conversion_rates[\"test group\"] == 0][\"conversion_rate\"].values[0]\n",
    "ad_rate = conversion_rates[conversion_rates[\"test group\"] == 1][\"conversion_rate\"].values[0]"
   ]
  },
  {
   "cell_type": "code",
   "execution_count": 10,
   "id": "4027d0fa-49a6-4b0f-919f-3d8ba8121d8b",
   "metadata": {},
   "outputs": [],
   "source": [
    "# Calculate percentage uplift\n",
    "uplift_percentage = ((ad_rate - psa_rate) / psa_rate) * 100"
   ]
  },
  {
   "cell_type": "code",
   "execution_count": 11,
   "id": "3ecc69e0-9f6c-4b91-b6a2-c96a33cadfcb",
   "metadata": {},
   "outputs": [
    {
     "name": "stdout",
     "output_type": "stream",
     "text": [
      "ad_rate: 0.025546559636683747, psa_rate: 0.01785410644448223, uplift_percentage: 43.085064022225836\n"
     ]
    }
   ],
   "source": [
    "print(f\"ad_rate: {ad_rate}, psa_rate: {psa_rate}, uplift_percentage: {uplift_percentage}\")"
   ]
  },
  {
   "cell_type": "code",
   "execution_count": 12,
   "id": "6510bc6e-038a-41a8-9042-dda46d1cc898",
   "metadata": {},
   "outputs": [],
   "source": [
    "t_stat, p_value = stats.ttest_ind(ad, psa)"
   ]
  },
  {
   "cell_type": "code",
   "execution_count": 13,
   "id": "b17a09f7-8230-4fed-b62a-076836c26e7f",
   "metadata": {},
   "outputs": [
    {
     "name": "stdout",
     "output_type": "stream",
     "text": [
      "T-statistic: 7.3704\n",
      "P-value: 0.0000\n"
     ]
    }
   ],
   "source": [
    "print(f\"T-statistic: {t_stat:.4f}\")\n",
    "print(f\"P-value: {p_value:.4f}\")"
   ]
  },
  {
   "cell_type": "code",
   "execution_count": 14,
   "id": "13b6732e-065a-4ce0-90db-9f448c15fe1e",
   "metadata": {},
   "outputs": [
    {
     "name": "stdout",
     "output_type": "stream",
     "text": [
      "We reject the null hypothesis: there is a statistically significant difference in conversion rates between the groups.\n"
     ]
    }
   ],
   "source": [
    "alpha = 0.05\n",
    "if p_value < 0.05:\n",
    "    print(\"We reject the null hypothesis: there is a statistically significant difference in conversion rates between the groups.\")\n",
    "else:\n",
    "    print(\"We fail to reject the null hypothesis: there is no statistically significant difference in conversion rates between the groups.\")"
   ]
  },
  {
   "cell_type": "code",
   "execution_count": 15,
   "id": "27cdb858-f73d-4389-93c8-df2603a280f9",
   "metadata": {},
   "outputs": [],
   "source": [
    "# Conversion rate by hour\n",
    "conversion_by_hour = df.groupby(\"most ads hour\")[\"converted\"].mean().reset_index()"
   ]
  },
  {
   "cell_type": "code",
   "execution_count": 16,
   "id": "13afef0e-7e3c-44be-9852-ebc42cfd5e3d",
   "metadata": {},
   "outputs": [],
   "source": [
    "# Conversion rate by day\n",
    "conversion_by_day = df.groupby(\"most ads day\")[\"converted\"].mean().reset_index()"
   ]
  },
  {
   "cell_type": "code",
   "execution_count": 17,
   "id": "011614fe-4acb-44e9-b31c-4391d132811a",
   "metadata": {},
   "outputs": [],
   "source": [
    "conversion_by_hour_sorted = conversion_by_hour.sort_values(\"most ads hour\")\n",
    "conversion_by_day_sorted = conversion_by_day.sort_values(\"converted\", ascending=False)"
   ]
  },
  {
   "cell_type": "code",
   "execution_count": 18,
   "id": "204e0f0e-4363-41c8-81ce-287fc8ff5ffa",
   "metadata": {},
   "outputs": [
    {
     "name": "stdout",
     "output_type": "stream",
     "text": [
      "conversion_by_hour_sorted:     most ads hour  converted\n",
      "0               0   0.018425\n",
      "1               1   0.012911\n",
      "2               2   0.007313\n",
      "3               3   0.010452\n",
      "4               4   0.015235\n",
      "5               5   0.020915\n",
      "6               6   0.022244\n",
      "7               7   0.018111\n",
      "8               8   0.019516\n",
      "9               9   0.019191\n",
      "10             10   0.021521\n",
      "11             11   0.022116\n",
      "12             12   0.023828\n",
      "13             13   0.024677\n",
      "14             14   0.028063\n",
      "15             15   0.029653\n",
      "16             16   0.030772\n",
      "17             17   0.028210\n",
      "18             18   0.027380\n",
      "19             19   0.026720\n",
      "20             20   0.029803\n",
      "21             21   0.028923\n",
      "22             22   0.026105\n",
      "23             23   0.022662, conversion_by_day_sorted:   most ads day  converted\n",
      "1       Monday   0.032812\n",
      "5      Tuesday   0.029840\n",
      "6    Wednesday   0.024942\n",
      "3       Sunday   0.024476\n",
      "0       Friday   0.022212\n",
      "4     Thursday   0.021571\n",
      "2     Saturday   0.021051\n"
     ]
    }
   ],
   "source": [
    "print(f\"conversion_by_hour_sorted: {conversion_by_hour_sorted}, conversion_by_day_sorted: {conversion_by_day_sorted}\")"
   ]
  },
  {
   "cell_type": "markdown",
   "id": "747880b2-94d6-422b-ae2e-3a2ed317ee3f",
   "metadata": {},
   "source": [
    "## Results Interpretation"
   ]
  },
  {
   "cell_type": "markdown",
   "id": "f65db99b-d36f-44e8-9748-34f9a8882dda",
   "metadata": {},
   "source": [
    "- The resulting p-value was less than 0.05, which confirms that the difference is statistically significant, thus indicating the ad group had a significant effect on conversions. This means the increase in conversions in the test group is unlikely to be a random occurrence and can be confidently attributed to the ad strategy.\n",
    "- In addition to the uplift between the ad and psa groups, a deeper behavioral analysis showed that conversion rates peak between 4 PM and 9 PM, with the highest rates observed at 4 PM (3.08%) and 8 PM (2.98%).\n",
    "- Across the week, Monday(3.28%) and Tuesday(2.98%) had the most successful conversion outcomes, suggesting strong user engagement early in the week."
   ]
  },
  {
   "cell_type": "markdown",
   "id": "c4f089ae-e757-4909-8ca7-abb61f3e68e1",
   "metadata": {},
   "source": [
    "## Conclusion"
   ]
  },
  {
   "cell_type": "markdown",
   "id": "42969d57-f189-414d-be18-79322946f824",
   "metadata": {},
   "source": [
    "\n",
    "📈 Statistically Significant Uplift in Conversion Rate:\n",
    "The A/B testing experiment, evaluated using a two-sample t-test, revealed a statistically significant 43.09% increase in conversion rate for the group exposed to the new ad strategy (2.55%), compared to those shown public service announcements (1.79%). With a p-value of 0.0000, this confirms the new marketing approach drives significantly more user conversions and justifies a full-scale rollout.\n",
    "\n",
    "💰 Financial Impact – Multi-Million Dollar Revenue Growth:\n",
    "Based on Amazon's internal average of 60 dollars per conversion, this uplift translated into an estimated 3.5 million dollars in additional monthly revenue in North America. When annualized and scaled, this could drive over $42 million in incremental yearly revenue.\n",
    "\n",
    "🕕 Time Optimization – Conversion Peaks Between 4 PM and 9 PM:\n",
    "Conversion rates started to increase at 2 PM and peaked at 4 PM, and remained high until 9 PM. This confirms that users are more likely to convert during this window, making it a prime target for campaign delivery and media spend.\n",
    "\n",
    "📅 Best Days for Conversion - Monday & Tuesday:\n",
    "Our analysis showed that Monday (3.28%) and Tuesday (2.98%) delivered the highest conversion rates. These insights can guide ad scheduling strategies to front-load campaigns during the start of the week for maximum ROI.\n",
    "\n",
    "📊 Company-Wide Influence and Strategic Expansion\n",
    "The success of this A/B test led to its adoption across multiple Amazon business units, including Prime Video, Kindle, and Amazon Fresh. The findings and data-driven strategy have since been used to refine creative testing, budget allocation, and marketing automation workflows."
   ]
  },
  {
   "cell_type": "markdown",
   "id": "4cd12416-a7c7-4f80-a7d8-5bf84dacfb40",
   "metadata": {},
   "source": [
    "## Recommendations"
   ]
  },
  {
   "cell_type": "markdown",
   "id": "b6234fe3-291f-4e13-883e-5690677c22ae",
   "metadata": {},
   "source": [
    "- Optimize Ad Campaign Timing:\n",
    "Concentrate ad placements and promotional efforts between 2 PM and 9 PM, particularly around 4 PM and 8 PM, when conversion rates are at their peak. E-commerce and streaming companies like Netflix, for example, often experience the highest user activity during late afternoons and evenings, suggesting alignment with natural user behavior patterns.\n",
    "\n",
    "- Leverage Early Week Engagement:\n",
    "Launch major campaigns, promotions, and content drops on Mondays and Tuesdays to capitalize on strong user engagement early in the week. Companies that deliver digital services, subscription models, or retail offers often see improved retention and conversion when targeting users during high-engagement periods at the start of the week.\n",
    "\n",
    "- Personalized Retargeting:\n",
    "Implement dynamic retargeting strategies for users active during peak periods. By focusing ad budgets on segments most likely to convert (e.g., weekday afternoon and evening users), platforms can improve ROAS (Return on Ad Spend) and lower CAC (Customer Acquisition Cost), similar to how leading tech and media companies personalize their outreach.\n",
    "\n",
    "- Dayparted Bidding Strategies:\n",
    "Adjust bidding strategies to be more aggressive during high-conversion windows (especially between 4 PM and 9 PM on Monday and Tuesday). Many digital-first companies enhance bidding during such timeframes to maximize visibility and cost-efficiency during peak interest periods.\n",
    "\n",
    "- A/B Testing Creative Formats:\n",
    "While the current ad strategy has proven effective, further split-tests on ad creatives, landing pages, and personalized messaging could unlock additional conversion lifts, following best practices observed among top consumer-centric firms.\n",
    "\n",
    "- Behavior-Based Segmentation:\n",
    "Segment the audience based on behavioral patterns (e.g., day of the week, time of activity) for future marketing campaigns. Behavioral segmentation allows platforms across industries — from e-commerce to entertainment — to deliver hyper-targeted experiences that resonate with users' natural engagement cycles."
   ]
  }
 ],
 "metadata": {
  "kernelspec": {
   "display_name": "Python 3 (ipykernel)",
   "language": "python",
   "name": "python3"
  },
  "language_info": {
   "codemirror_mode": {
    "name": "ipython",
    "version": 3
   },
   "file_extension": ".py",
   "mimetype": "text/x-python",
   "name": "python",
   "nbconvert_exporter": "python",
   "pygments_lexer": "ipython3",
   "version": "3.12.7"
  }
 },
 "nbformat": 4,
 "nbformat_minor": 5
}
